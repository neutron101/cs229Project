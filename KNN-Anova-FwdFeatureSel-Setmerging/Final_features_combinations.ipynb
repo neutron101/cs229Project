{
 "cells": [
  {
   "cell_type": "code",
   "execution_count": 6,
   "metadata": {},
   "outputs": [],
   "source": [
    "import numpy as np\n",
    "import matplotlib.pyplot as plt\n",
    "%matplotlib inline\n",
    "\n",
    "setKNN_all = set(np.loadtxt('knn_30final_startingall', dtype=str))\n",
    "setKNN_fscore = set(np.loadtxt('knn_final30_p10', dtype=str))\n",
    "setRF = set(np.loadtxt('random_forest_nzv', dtype=str))\n",
    "setBoosting = set(np.loadtxt('boosting_nzv', dtype=str))\n",
    "setLasso = set(np.loadtxt('lasso_nzv', dtype = str))\n",
    "setSVMnzv = set(np.loadtxt('non_zero_variance_svm', dtype = str))\n",
    "setSVMother = set(np.loadtxt('other_svm', dtype=str))"
   ]
  },
  {
   "cell_type": "code",
   "execution_count": 2,
   "metadata": {},
   "outputs": [],
   "source": [
    "union_all = setKNN_all.union(setKNN_fscore).union(setRF).union(setBoosting).union(setLasso).union(setSVMnzv).union(setSVMother)"
   ]
  },
  {
   "cell_type": "code",
   "execution_count": 3,
   "metadata": {},
   "outputs": [],
   "source": [
    "as_np_unionall = np.array(list(union_all), dtype=str)\n",
    "np.savetxt('unionall', as_np_unionall, fmt=\"%s\")"
   ]
  },
  {
   "cell_type": "code",
   "execution_count": 4,
   "metadata": {},
   "outputs": [],
   "source": [
    "#Creation of in at least two sets\n",
    "setCount = {x: 0 for x in union_all}\n",
    "for key, val in setCount.items():\n",
    "    if key in setKNN_all:\n",
    "        setCount[key] +=1\n",
    "    if key in setKNN_fscore:\n",
    "        setCount[key] +=1\n",
    "    if key in setRF:\n",
    "        setCount[key] +=1\n",
    "    if key in setBoosting:\n",
    "        setCount[key] +=1\n",
    "    if key in setLasso:\n",
    "        setCount[key] +=1\n",
    "    if key in setSVMnzv:\n",
    "        setCount[key] +=1\n",
    "    if key in setSVMother:\n",
    "        setCount[key] +=1\n",
    "atleast2 = []\n",
    "for key, val in setCount.items():\n",
    "    if(val>1):\n",
    "        atleast2.append(key)\n",
    "        \n",
    "        "
   ]
  },
  {
   "cell_type": "code",
   "execution_count": 5,
   "metadata": {},
   "outputs": [],
   "source": [
    "asnp_atleast2 = np.array(atleast2, dtype=str)\n",
    "np.savetxt('atleast2', asnp_atleast2, fmt=\"%s\")"
   ]
  },
  {
   "cell_type": "code",
   "execution_count": 59,
   "metadata": {},
   "outputs": [
    {
     "data": {
      "image/png": "[encoded data removed]",
      "text/plain": [
       "<Figure size 432x288 with 1 Axes>"
      ]
     },
     "metadata": {},
     "output_type": "display_data"
    }
   ],
   "source": [
    "plt.hist(setCount.values(), bins = [1,2,3,4,5,6,7,8], align='left', facecolor='deepskyblue')\n",
    "plt.xticks([1,2,3,4,5,6,7], [1,2,3,4,5,6,7], fontsize='large')\n",
    "plt.yticks(fontsize='large')\n",
    "# plt.title('Distribution of presence of features across final sets')\n",
    "plt.xlabel('Number of sets a feature is in', fontsize='xx-large')\n",
    "plt.ylabel('Frequency', fontsize='xx-large')\n",
    "# plt.show()\n",
    "plt.savefig('feature_histogram.png', dpi=300)"
   ]
  },
  {
   "cell_type": "code",
   "execution_count": 25,
   "metadata": {},
   "outputs": [
    {
     "name": "stdout",
     "output_type": "stream",
     "text": [
      "119\n",
      "119\n"
     ]
    }
   ],
   "source": [
    "print(len(setRF))\n",
    "print(len(setRF.union(setBoosting)))"
   ]
  },
  {
   "cell_type": "code",
   "execution_count": 29,
   "metadata": {},
   "outputs": [
    {
     "data": {
      "text/plain": [
       "2"
      ]
     },
     "execution_count": 29,
     "metadata": {},
     "output_type": "execute_result"
    }
   ],
   "source": [
    "len(setKNN_all.intersection(setKNN_fscore))"
   ]
  },
  {
   "cell_type": "code",
   "execution_count": 30,
   "metadata": {},
   "outputs": [
    {
     "data": {
      "text/plain": [
       "8"
      ]
     },
     "execution_count": 30,
     "metadata": {},
     "output_type": "execute_result"
    }
   ],
   "source": [
    "len(setSVMnzv.intersection(setSVMother))"
   ]
  },
  {
   "cell_type": "code",
   "execution_count": null,
   "metadata": {},
   "outputs": [],
   "source": []
  }
 ],
 "metadata": {
  "kernelspec": {
   "display_name": "Python 3",
   "language": "python",
   "name": "python3"
  },
  "language_info": {
   "codemirror_mode": {
    "name": "ipython",
    "version": 3
   },
   "file_extension": ".py",
   "mimetype": "text/x-python",
   "name": "python",
   "nbconvert_exporter": "python",
   "pygments_lexer": "ipython3",
   "version": "3.6.5"
  }
 },
 "nbformat": 4,
 "nbformat_minor": 2
}
